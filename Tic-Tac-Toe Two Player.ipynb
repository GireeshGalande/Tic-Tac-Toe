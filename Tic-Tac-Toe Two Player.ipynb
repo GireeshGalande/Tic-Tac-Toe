{
 "cells": [
  {
   "cell_type": "code",
   "execution_count": 1,
   "metadata": {},
   "outputs": [],
   "source": [
    "from IPython.display import clear_output\n",
    "import random\n",
    "board=[' ']*10\n",
    "players = [0,' ',' ']"
   ]
  },
  {
   "cell_type": "code",
   "execution_count": 2,
   "metadata": {},
   "outputs": [],
   "source": [
    "def print_board(board):\n",
    "    print(board[7]+ '    |    '+ board[8]+ '    |    ' + board[9])\n",
    "    print('-------------------')\n",
    "    print(board[4]+ '    |    '+ board[5]+ '    |    ' + board[6])\n",
    "    print('-------------------')\n",
    "    print(board[1]+ '    |    '+ board[2]+ '    |    ' + board[3])"
   ]
  },
  {
   "cell_type": "code",
   "execution_count": 3,
   "metadata": {},
   "outputs": [],
   "source": [
    "def play(toggle):\n",
    "    print(\"Lets play\")\n",
    "    print(\"----------------\")\n",
    "    print_board(board)\n",
    "    if toggle==1:\n",
    "        boggle=2\n",
    "    else:\n",
    "        boggle=1\n",
    "    for i in range(0,9): \n",
    "            if i%2==0:\n",
    "                board[player_choice(board,toggle)]=players[toggle]\n",
    "            else:\n",
    "                board[player_choice(board,boggle)]=players[boggle]\n",
    "            print_board(board)\n",
    "            if winner():\n",
    "                break\n",
    "    if(i==8):\n",
    "        print(\"It's a tie\")\n"
   ]
  },
  {
   "cell_type": "code",
   "execution_count": 4,
   "metadata": {},
   "outputs": [],
   "source": [
    "def random_player():\n",
    "    return random.choice(range(1,3))\n",
    "    \n",
    "def space_check(board,position):\n",
    "    return board[position] == ' '\n",
    "    \n",
    "def full_board_check(board):\n",
    "    return ' ' not in board[1:]"
   ]
  },
  {
   "cell_type": "code",
   "execution_count": 5,
   "metadata": {},
   "outputs": [],
   "source": [
    "def player_choice(board,player):\n",
    "    while True:\n",
    "        position = int(input('Player {}, choose your next position: (1-9) '.format(player)))\n",
    "        if position<1 or position>9:\n",
    "            print(\"I'm sorry, please try again\")\n",
    "        elif space_check(board, position):\n",
    "            return position\n",
    "        else:\n",
    "            print(\"This space is already occupied\")\n"
   ]
  },
  {
   "cell_type": "code",
   "execution_count": 6,
   "metadata": {},
   "outputs": [],
   "source": [
    "def check_win(board,mark):\n",
    "    \n",
    "    return ((board[7] == mark and board[8] == mark and board[9] == mark) or \n",
    "    (board[4] == mark and board[5] == mark and board[6] == mark) or \n",
    "    (board[1] == mark and board[2] == mark and board[3] == mark) or \n",
    "    (board[7] == mark and board[4] == mark and board[1] == mark) or \n",
    "    (board[8] == mark and board[5] == mark and board[2] == mark) or \n",
    "    (board[9] == mark and board[6] == mark and board[3] == mark) or \n",
    "    (board[7] == mark and board[5] == mark and board[3] == mark) or \n",
    "    (board[9] == mark and board[5] == mark and board[1] == mark)) "
   ]
  },
  {
   "cell_type": "code",
   "execution_count": 7,
   "metadata": {},
   "outputs": [],
   "source": [
    "def winner():\n",
    "    j=check_win(board,players[1])\n",
    "    k=check_win(board,players[2])\n",
    "    if j:\n",
    "        print(\"Player 1 is the winner\")\n",
    "        return True;\n",
    "    elif k:\n",
    "        print(\"Player 2 is the winner\")\n",
    "        return True\n",
    "    else:       \n",
    "        return False"
   ]
  },
  {
   "cell_type": "code",
   "execution_count": 8,
   "metadata": {},
   "outputs": [],
   "source": [
    "def OneOrTwo(player):\n",
    "        print('For this round, Player %s will go first!' %(player))"
   ]
  },
  {
   "cell_type": "code",
   "execution_count": 9,
   "metadata": {},
   "outputs": [],
   "source": [
    "def choose():\n",
    "    players[1]=input(\"Player 1 choose the marker : 'X' or 'O' \")\n",
    "    if players[1]=='X':\n",
    "        players[2]='O'\n",
    "    else:\n",
    "        players[2]='X'"
   ]
  },
  {
   "cell_type": "code",
   "execution_count": 10,
   "metadata": {},
   "outputs": [],
   "source": [
    "if __name__ == '__main__':\n",
    "    while True:\n",
    "        a=input(\"Do you want to play tic tac toe ? (y/n)\")\n",
    "        clear_output()\n",
    "        if a.lower()=='y':\n",
    "            board=[' ']*10\n",
    "            choose()\n",
    "            toggle = random_player()\n",
    "            OneOrTwo(toggle)\n",
    "            play(toggle)            \n",
    "        elif a.lower()=='n':\n",
    "             break \n",
    "        else:\n",
    "            print(\"Please enter valid input\")"
   ]
  },
  {
   "cell_type": "code",
   "execution_count": null,
   "metadata": {},
   "outputs": [],
   "source": []
  },
  {
   "cell_type": "code",
   "execution_count": null,
   "metadata": {},
   "outputs": [],
   "source": []
  }
 ],
 "metadata": {
  "kernelspec": {
   "display_name": "Python 3",
   "language": "python",
   "name": "python3"
  },
  "language_info": {
   "codemirror_mode": {
    "name": "ipython",
    "version": 3
   },
   "file_extension": ".py",
   "mimetype": "text/x-python",
   "name": "python",
   "nbconvert_exporter": "python",
   "pygments_lexer": "ipython3",
   "version": "3.6.5"
  }
 },
 "nbformat": 4,
 "nbformat_minor": 2
}
